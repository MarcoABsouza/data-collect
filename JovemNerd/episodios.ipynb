{
 "cells": [
  {
   "cell_type": "code",
   "execution_count": 25,
   "metadata": {},
   "outputs": [],
   "source": [
    "import requests\n",
    "import datetime\n",
    "import json\n",
    "import pandas as pd\n",
    "import time"
   ]
  },
  {
   "cell_type": "code",
   "execution_count": 32,
   "metadata": {},
   "outputs": [],
   "source": [
    "class Collector:\n",
    "    def __init__(self, url, instance_name):\n",
    "        self.url = url\n",
    "        self.instance_name = instance_name\n",
    "\n",
    "    def get_content(self, **kwargs):\n",
    "        resp = requests.get(self.url, params=kwargs)\n",
    "        return resp\n",
    "\n",
    "    def save_parquet(self, data):\n",
    "        now = datetime.datetime.now().strftime(\"%Y%m%d_%H%M%S.%f\")\n",
    "        df = pd.DataFrame(data)\n",
    "        df.to_parquet(f\"data/{self.instance_name}/parquet/{now}.parquet\", index=False)\n",
    "\n",
    "    def save_json(self, data):\n",
    "        now = datetime.datetime.now().strftime(\"%Y%m%d_%H%M%S.%f\")\n",
    "        with open(f\"data/{self.instance_name}/json/{now}.json\", \"w\") as open_file:\n",
    "                json.dump(data, open_file)  \n",
    "\n",
    "    def save_data(self, data, format='json'):\n",
    "        if format == 'json':\n",
    "            self.save_json(data)\n",
    "        elif format == 'parquet':\n",
    "            self.save_parquet(data)\n",
    "\n",
    "    def get_and_save(self, save_format='json', **kwargs):\n",
    "        resp = self.get_content(**kwargs)\n",
    "        if resp.status_code == 200:\n",
    "            data = resp.json()\n",
    "            self.save_data(data,save_format)\n",
    "        else:\n",
    "            data = None\n",
    "            print(f'request sem sucesso: {resp.status_code}', resp.json())\n",
    "        return data\n",
    "    \n",
    "    def auto_exec(self, save_format='json', date_stop='2000-01-01'):\n",
    "        page = 1\n",
    "        while True:\n",
    "            data = self.get_and_save(save_format=save_format, page=page, per_page=1000)\n",
    "            if data == None:\n",
    "                print('Erro ao coletar dados...')\n",
    "                time.sleep()\n",
    "            else:\n",
    "                date_last = pd.to_datetime(data[-1]['published_at']).date()\n",
    "                if date_last < pd.to_datetime(date_stop).date():\n",
    "                    break\n",
    "                elif len(data)<1000:\n",
    "                    break\n",
    "                page+=1\n",
    "                time.sleep(5)"
   ]
  },
  {
   "cell_type": "code",
   "execution_count": 33,
   "metadata": {},
   "outputs": [],
   "source": [
    "url = \"https://api.jovemnerd.com.br/wp-json/jovemnerd/v1/nerdcasts/\"\n",
    "collect = Collector(url, 'episodios')"
   ]
  },
  {
   "cell_type": "code",
   "execution_count": 34,
   "metadata": {},
   "outputs": [],
   "source": [
    "collect.auto_exec()"
   ]
  }
 ],
 "metadata": {
  "kernelspec": {
   "display_name": "data-collect",
   "language": "python",
   "name": "python3"
  },
  "language_info": {
   "codemirror_mode": {
    "name": "ipython",
    "version": 3
   },
   "file_extension": ".py",
   "mimetype": "text/x-python",
   "name": "python",
   "nbconvert_exporter": "python",
   "pygments_lexer": "ipython3",
   "version": "3.13.0"
  }
 },
 "nbformat": 4,
 "nbformat_minor": 2
}
